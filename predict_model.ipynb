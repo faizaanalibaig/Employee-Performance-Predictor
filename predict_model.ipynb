{
 "cells": [
  {
   "cell_type": "code",
   "execution_count": 2,
   "id": "1d5e30dd",
   "metadata": {},
   "outputs": [],
   "source": [
    "#Loading our trained model\n",
    "import pickle\n",
    "with open('trained_model.pkl', 'rb') as file:\n",
    "    loaded_model = pickle.load(file)"
   ]
  },
  {
   "cell_type": "code",
   "execution_count": 4,
   "id": "0d8b2250",
   "metadata": {},
   "outputs": [],
   "source": [
    "# Loading our preprocessed data\n",
    "import pandas as  pd\n",
    "data = pd.read_csv(r\"C:\\Users\\Faizaan Ali Baig\\its me\\IABAC\\INX_Project\\data\\Processed\\pre_processed_data.csv\")"
   ]
  },
  {
   "cell_type": "code",
   "execution_count": 5,
   "id": "b76dfcc8",
   "metadata": {},
   "outputs": [
    {
     "data": {
      "text/html": [
       "<div>\n",
       "<style scoped>\n",
       "    .dataframe tbody tr th:only-of-type {\n",
       "        vertical-align: middle;\n",
       "    }\n",
       "\n",
       "    .dataframe tbody tr th {\n",
       "        vertical-align: top;\n",
       "    }\n",
       "\n",
       "    .dataframe thead th {\n",
       "        text-align: right;\n",
       "    }\n",
       "</style>\n",
       "<table border=\"1\" class=\"dataframe\">\n",
       "  <thead>\n",
       "    <tr style=\"text-align: right;\">\n",
       "      <th></th>\n",
       "      <th>Unnamed: 0</th>\n",
       "      <th>Age</th>\n",
       "      <th>EducationBackground</th>\n",
       "      <th>MaritalStatus</th>\n",
       "      <th>EmpDepartment</th>\n",
       "      <th>EmpJobRole</th>\n",
       "      <th>BusinessTravelFrequency</th>\n",
       "      <th>DistanceFromHome</th>\n",
       "      <th>EmpEducationLevel</th>\n",
       "      <th>EmpEnvironmentSatisfaction</th>\n",
       "      <th>...</th>\n",
       "      <th>TrainingTimesLastYear</th>\n",
       "      <th>EmpWorkLifeBalance</th>\n",
       "      <th>ExperienceYearsAtThisCompany</th>\n",
       "      <th>ExperienceYearsInCurrentRole</th>\n",
       "      <th>YearsSinceLastPromotion</th>\n",
       "      <th>YearsWithCurrManager</th>\n",
       "      <th>Attrition</th>\n",
       "      <th>PerformanceRating</th>\n",
       "      <th>Female</th>\n",
       "      <th>Male</th>\n",
       "    </tr>\n",
       "  </thead>\n",
       "  <tbody>\n",
       "    <tr>\n",
       "      <th>0</th>\n",
       "      <td>0</td>\n",
       "      <td>32</td>\n",
       "      <td>3</td>\n",
       "      <td>2</td>\n",
       "      <td>6</td>\n",
       "      <td>18</td>\n",
       "      <td>2</td>\n",
       "      <td>10</td>\n",
       "      <td>3</td>\n",
       "      <td>4</td>\n",
       "      <td>...</td>\n",
       "      <td>2</td>\n",
       "      <td>2</td>\n",
       "      <td>10</td>\n",
       "      <td>7</td>\n",
       "      <td>0</td>\n",
       "      <td>8</td>\n",
       "      <td>1</td>\n",
       "      <td>3</td>\n",
       "      <td>0</td>\n",
       "      <td>1</td>\n",
       "    </tr>\n",
       "    <tr>\n",
       "      <th>1</th>\n",
       "      <td>1</td>\n",
       "      <td>47</td>\n",
       "      <td>3</td>\n",
       "      <td>2</td>\n",
       "      <td>6</td>\n",
       "      <td>18</td>\n",
       "      <td>2</td>\n",
       "      <td>14</td>\n",
       "      <td>4</td>\n",
       "      <td>4</td>\n",
       "      <td>...</td>\n",
       "      <td>2</td>\n",
       "      <td>3</td>\n",
       "      <td>7</td>\n",
       "      <td>7</td>\n",
       "      <td>1</td>\n",
       "      <td>7</td>\n",
       "      <td>1</td>\n",
       "      <td>3</td>\n",
       "      <td>0</td>\n",
       "      <td>1</td>\n",
       "    </tr>\n",
       "    <tr>\n",
       "      <th>2</th>\n",
       "      <td>2</td>\n",
       "      <td>40</td>\n",
       "      <td>5</td>\n",
       "      <td>3</td>\n",
       "      <td>6</td>\n",
       "      <td>18</td>\n",
       "      <td>1</td>\n",
       "      <td>5</td>\n",
       "      <td>4</td>\n",
       "      <td>4</td>\n",
       "      <td>...</td>\n",
       "      <td>2</td>\n",
       "      <td>3</td>\n",
       "      <td>18</td>\n",
       "      <td>13</td>\n",
       "      <td>1</td>\n",
       "      <td>12</td>\n",
       "      <td>1</td>\n",
       "      <td>4</td>\n",
       "      <td>0</td>\n",
       "      <td>1</td>\n",
       "    </tr>\n",
       "    <tr>\n",
       "      <th>3</th>\n",
       "      <td>3</td>\n",
       "      <td>41</td>\n",
       "      <td>0</td>\n",
       "      <td>1</td>\n",
       "      <td>3</td>\n",
       "      <td>11</td>\n",
       "      <td>2</td>\n",
       "      <td>10</td>\n",
       "      <td>4</td>\n",
       "      <td>2</td>\n",
       "      <td>...</td>\n",
       "      <td>2</td>\n",
       "      <td>2</td>\n",
       "      <td>21</td>\n",
       "      <td>6</td>\n",
       "      <td>12</td>\n",
       "      <td>6</td>\n",
       "      <td>1</td>\n",
       "      <td>3</td>\n",
       "      <td>0</td>\n",
       "      <td>1</td>\n",
       "    </tr>\n",
       "    <tr>\n",
       "      <th>4</th>\n",
       "      <td>4</td>\n",
       "      <td>60</td>\n",
       "      <td>3</td>\n",
       "      <td>2</td>\n",
       "      <td>6</td>\n",
       "      <td>18</td>\n",
       "      <td>2</td>\n",
       "      <td>16</td>\n",
       "      <td>4</td>\n",
       "      <td>1</td>\n",
       "      <td>...</td>\n",
       "      <td>1</td>\n",
       "      <td>3</td>\n",
       "      <td>2</td>\n",
       "      <td>2</td>\n",
       "      <td>2</td>\n",
       "      <td>2</td>\n",
       "      <td>1</td>\n",
       "      <td>3</td>\n",
       "      <td>0</td>\n",
       "      <td>1</td>\n",
       "    </tr>\n",
       "  </tbody>\n",
       "</table>\n",
       "<p>5 rows × 29 columns</p>\n",
       "</div>"
      ],
      "text/plain": [
       "   Unnamed: 0  Age  EducationBackground  MaritalStatus  EmpDepartment  \\\n",
       "0           0   32                    3              2              6   \n",
       "1           1   47                    3              2              6   \n",
       "2           2   40                    5              3              6   \n",
       "3           3   41                    0              1              3   \n",
       "4           4   60                    3              2              6   \n",
       "\n",
       "   EmpJobRole  BusinessTravelFrequency  DistanceFromHome  EmpEducationLevel  \\\n",
       "0          18                        2                10                  3   \n",
       "1          18                        2                14                  4   \n",
       "2          18                        1                 5                  4   \n",
       "3          11                        2                10                  4   \n",
       "4          18                        2                16                  4   \n",
       "\n",
       "   EmpEnvironmentSatisfaction  ...  TrainingTimesLastYear  EmpWorkLifeBalance  \\\n",
       "0                           4  ...                      2                   2   \n",
       "1                           4  ...                      2                   3   \n",
       "2                           4  ...                      2                   3   \n",
       "3                           2  ...                      2                   2   \n",
       "4                           1  ...                      1                   3   \n",
       "\n",
       "   ExperienceYearsAtThisCompany  ExperienceYearsInCurrentRole  \\\n",
       "0                            10                             7   \n",
       "1                             7                             7   \n",
       "2                            18                            13   \n",
       "3                            21                             6   \n",
       "4                             2                             2   \n",
       "\n",
       "   YearsSinceLastPromotion  YearsWithCurrManager  Attrition  \\\n",
       "0                        0                     8          1   \n",
       "1                        1                     7          1   \n",
       "2                        1                    12          1   \n",
       "3                       12                     6          1   \n",
       "4                        2                     2          1   \n",
       "\n",
       "   PerformanceRating  Female  Male  \n",
       "0                  3       0     1  \n",
       "1                  3       0     1  \n",
       "2                  4       0     1  \n",
       "3                  3       0     1  \n",
       "4                  3       0     1  \n",
       "\n",
       "[5 rows x 29 columns]"
      ]
     },
     "execution_count": 5,
     "metadata": {},
     "output_type": "execute_result"
    }
   ],
   "source": [
    "data.head()"
   ]
  },
  {
   "cell_type": "code",
   "execution_count": 6,
   "id": "5b496ad6",
   "metadata": {},
   "outputs": [],
   "source": [
    "# splitting the dataset into independent and dependent feature\n",
    "x = data.drop(['PerformanceRating'],axis=1)\n",
    "y = data['PerformanceRating']"
   ]
  },
  {
   "cell_type": "code",
   "execution_count": 7,
   "id": "e6afec3b",
   "metadata": {},
   "outputs": [],
   "source": [
    "from sklearn.model_selection import train_test_split"
   ]
  },
  {
   "cell_type": "code",
   "execution_count": 8,
   "id": "c283976c",
   "metadata": {},
   "outputs": [],
   "source": [
    "x_train,x_test,y_train,y_test = train_test_split(x,y,test_size=0.3,random_state=43)"
   ]
  },
  {
   "cell_type": "code",
   "execution_count": 9,
   "id": "72fecd0e",
   "metadata": {},
   "outputs": [],
   "source": [
    "y_pred = loaded_model.predict(x_test) # predicting using our old pretrained model for test data\n",
    "y_pred1 = loaded_model.predict(x_train) # predicting using our old pretrained model for train data"
   ]
  },
  {
   "cell_type": "code",
   "execution_count": 14,
   "id": "e2fcdcde",
   "metadata": {},
   "outputs": [
    {
     "name": "stdout",
     "output_type": "stream",
     "text": [
      "              precision    recall  f1-score   support\n",
      "\n",
      "           2       0.91      1.00      0.95        58\n",
      "           3       1.00      0.97      0.98       260\n",
      "           4       0.93      0.98      0.95        42\n",
      "\n",
      "    accuracy                           0.97       360\n",
      "   macro avg       0.94      0.98      0.96       360\n",
      "weighted avg       0.97      0.97      0.97       360\n",
      "\n"
     ]
    }
   ],
   "source": [
    "from sklearn.metrics import classification_report,accuracy_score\n",
    "# Testing accuracy\n",
    "print(classification_report(y_test,y_pred))"
   ]
  },
  {
   "cell_type": "code",
   "execution_count": 13,
   "id": "d79f4e63",
   "metadata": {},
   "outputs": [
    {
     "name": "stdout",
     "output_type": "stream",
     "text": [
      "              precision    recall  f1-score   support\n",
      "\n",
      "           2       0.94      0.99      0.96       136\n",
      "           3       1.00      0.99      0.99       614\n",
      "           4       0.99      0.99      0.99        90\n",
      "\n",
      "    accuracy                           0.99       840\n",
      "   macro avg       0.98      0.99      0.98       840\n",
      "weighted avg       0.99      0.99      0.99       840\n",
      "\n"
     ]
    }
   ],
   "source": [
    "# Training accuracy\n",
    "print(classification_report(y_train,y_pred1))"
   ]
  },
  {
   "cell_type": "code",
   "execution_count": 16,
   "id": "b6392bcf",
   "metadata": {},
   "outputs": [
    {
     "name": "stdout",
     "output_type": "stream",
     "text": [
      "Accuracy of this model is: 97.22222222222221\n"
     ]
    }
   ],
   "source": [
    "Accuracy = accuracy_score(y_test,y_pred)\n",
    "print('Accuracy of this model is:',Accuracy*100)"
   ]
  },
  {
   "cell_type": "markdown",
   "id": "a469f51f",
   "metadata": {},
   "source": [
    "**\"The trained model, saved as 'trained_model.pkl', appears to be more flexible and accurate, meaning it can make predictions on new data more effectively**"
   ]
  }
 ],
 "metadata": {
  "kernelspec": {
   "display_name": "Python 3 (ipykernel)",
   "language": "python",
   "name": "python3"
  },
  "language_info": {
   "codemirror_mode": {
    "name": "ipython",
    "version": 3
   },
   "file_extension": ".py",
   "mimetype": "text/x-python",
   "name": "python",
   "nbconvert_exporter": "python",
   "pygments_lexer": "ipython3",
   "version": "3.11.5"
  }
 },
 "nbformat": 4,
 "nbformat_minor": 5
}
